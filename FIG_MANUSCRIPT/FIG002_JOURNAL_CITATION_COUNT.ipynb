{
 "cells": [
  {
   "cell_type": "code",
   "execution_count": null,
   "metadata": {
    "collapsed": true
   },
   "outputs": [],
   "source": [
    "#%matplotlib inline  \n",
    "import powerlaw\n",
    "import csv\n",
    "import glob\n",
    "from collections import defaultdict\n",
    "import gc\n",
    "import sys\n",
    "from multiprocessing import Pool\n",
    "import pandas as pd\n",
    "\n",
    "PUBYEAR_MIN = 1996\n",
    "PUBYEAR_MAX = 2017\n",
    "\n",
    "CITEYEAR_MAX = 2017\n",
    "\n",
    "eid_info_dir = \"../DATA/output/docinfo/eid_source_pubdate/\"\n",
    "eid_info_files = glob.glob(eid_info_dir + \"*.txt\")\n",
    "\n",
    "pubyear_dict = {}\n",
    "srcid_dict = {}\n",
    "srcid_asjc = {}\n",
    "\n",
    "_MAX_PROCESS = 4\n",
    "\n",
    "def cm2inch(value):\n",
    "    return value/2.54\n",
    "\n",
    "def flatList(tdlist):\n",
    "    templist = []\n",
    "    for i in tdlist:\n",
    "        templist += i\n",
    "    return templist"
   ]
  },
  {
   "cell_type": "code",
   "execution_count": null,
   "metadata": {},
   "outputs": [],
   "source": [
    "for nowfile in eid_info_files:\n",
    "    with open(nowfile, 'rb') as csvfile: \n",
    "        reader = csv.reader(csvfile, delimiter='\\t') \n",
    "        for row in reader: \n",
    "            if(row[1].isdigit()):\n",
    "                pubyear_dict[row[0]] = int(row[1])\n",
    "                srcid_dict[row[0]] = row[2]\n",
    "gc.collect()\n",
    "\n",
    "print len(pubyear_dict), len(srcid_dict)\n"
   ]
  },
  {
   "cell_type": "code",
   "execution_count": null,
   "metadata": {},
   "outputs": [],
   "source": [
    "source_info_file = \"../DATA/SCOPUS_SCIMAGO_MAPPING_DATA/src_final.txt\"\n",
    "\n",
    "with open(source_info_file, 'rb') as csvfile: \n",
    "    reader = csv.reader(csvfile, delimiter='\\t') \n",
    "    for row in reader:\n",
    "        srcid_asjc[row[0]] = row[5].split(\";\")\n",
    "    print len(srcid_asjc.items())\n",
    "gc.collect()"
   ]
  },
  {
   "cell_type": "code",
   "execution_count": null,
   "metadata": {
    "scrolled": true
   },
   "outputs": [],
   "source": [
    "PArrayLength = PUBYEAR_MAX - PUBYEAR_MIN + 1\n",
    "CArrayLength = CITEYEAR_MAX - PUBYEAR_MIN + 1\n",
    "\n",
    "network_info_dir = \"../DATA/output/network/separated/\"\n",
    "network_info_files = glob.glob(network_info_dir + \"*.txt\")\n",
    "print len(network_info_files)\n",
    "\n",
    "SrcCountArray = []\n",
    "for i in range(PArrayLength):\n",
    "    temparray = []\n",
    "    for j in range(CArrayLength):\n",
    "        temparray.append({})\n",
    "    SrcCountArray.append(temparray)\n",
    "\n",
    "SrcPaperArray = []\n",
    "for i in range(PArrayLength):\n",
    "    SrcPaperArray.append({})    \n",
    "\n",
    "gc.collect()\n",
    "count_exist = 0\n",
    "\n",
    "for k, v in pubyear_dict.iteritems():\n",
    "    if(k not in srcid_dict):\n",
    "        continue\n",
    "    elif(srcid_dict[k] not in srcid_asjc):\n",
    "        continue\n",
    "    elif(v > PUBYEAR_MAX or v < PUBYEAR_MIN):\n",
    "        continue\n",
    "    SrcPaperArray[v - PUBYEAR_MIN][srcid_dict[k]] = (SrcPaperArray[v - PUBYEAR_MIN]).setdefault(srcid_dict[k], 0) + 1        \n",
    "    for nC in range(v - PUBYEAR_MIN, CArrayLength):\n",
    "        count_exist += 1\n",
    "        SrcCountArray[v - PUBYEAR_MIN][nC][srcid_dict[k]] = 0\n",
    "\n",
    "print \"STEP2\"\n",
    "print count_exist\n",
    "count_err = 0\n",
    "\n",
    "for nowfile in network_info_files:\n",
    "    with open(nowfile, 'rb') as csvfile: \n",
    "        reader = csv.reader(csvfile, delimiter='\\t') \n",
    "        for row in reader: \n",
    "            if(row[0] not in srcid_dict or row[1] not in srcid_dict):\n",
    "                pass\n",
    "            elif(srcid_dict[row[0]] not in srcid_asjc or srcid_dict[row[1]] not in srcid_asjc):\n",
    "                pass\n",
    "            elif(pubyear_dict[row[0]] > PUBYEAR_MAX or pubyear_dict[row[0]] < PUBYEAR_MIN):\n",
    "                pass\n",
    "            elif(pubyear_dict[row[1]] > CITEYEAR_MAX):\n",
    "                pass\n",
    "            elif(pubyear_dict[row[1]] < pubyear_dict[row[0]]):\n",
    "                count_err += 1 \n",
    "            else:\n",
    "                nP = pubyear_dict[row[0]] - PUBYEAR_MIN\n",
    "                nC = pubyear_dict[row[1]] - PUBYEAR_MIN\n",
    "                SrcCountArray[nP][nC][srcid_dict[row[0]]] += 1                \n",
    "\n",
    "gc.collect()\n",
    "print count_err"
   ]
  },
  {
   "cell_type": "code",
   "execution_count": null,
   "metadata": {},
   "outputs": [],
   "source": [
    "count_data = pd.DataFrame(columns=[\"PubYear\", \"CiteYear\", \"SrcID\", \"Citecount\", \"Doccount\"])\n",
    "count_data"
   ]
  },
  {
   "cell_type": "code",
   "execution_count": null,
   "metadata": {
    "collapsed": true
   },
   "outputs": [],
   "source": [
    "temparray = []\n",
    "for i in range(PArrayLength):\n",
    "    for j in range(CArrayLength):\n",
    "        temparray = []\n",
    "        for key, val in SrcCountArray[i][j].iteritems():\n",
    "            try:\n",
    "                temp = [i, j, key, float(val), float(SrcPaperArray[i][key])]\n",
    "            except ZeroDivisionError: \n",
    "                temp = [i, j, key, 0, 0]\n",
    "            temparray.append(temp)\n",
    "        count_data = count_data.append(pd.DataFrame(temparray, columns=[\"PubYear\", \"CiteYear\", \"SrcID\", \"Citecount\", \"Doccount\"]), ignore_index = True)"
   ]
  },
  {
   "cell_type": "code",
   "execution_count": null,
   "metadata": {
    "collapsed": true
   },
   "outputs": [],
   "source": [
    "count_data['avg'] = count_data['Citecount']/count_data['Doccount']"
   ]
  },
  {
   "cell_type": "code",
   "execution_count": null,
   "metadata": {},
   "outputs": [],
   "source": [
    "count_data"
   ]
  },
  {
   "cell_type": "code",
   "execution_count": null,
   "metadata": {
    "collapsed": true
   },
   "outputs": [],
   "source": [
    "import powerlaw\n",
    "import matplotlib.pyplot as plt\n",
    "import matplotlib.colors as colors"
   ]
  },
  {
   "cell_type": "code",
   "execution_count": null,
   "metadata": {},
   "outputs": [],
   "source": [
    "fig = plt.figure(figsize =(cm2inch(14)*2,cm2inch(5)*2))\n",
    "m = plt.cm.ScalarMappable(cmap=plt.cm.jet)\n",
    "ax1 = fig.add_subplot(121)\n",
    "m.set_array([0,17])    \n",
    "diff = 1\n",
    "for i in range(17):\n",
    "    for j in range(i,17):          \n",
    "        data = count_data[(count_data['PubYear'] == i)&(count_data['CiteYear'] == j)]['avg']\n",
    "        powerlaw.plot_pdf(data[data>0], ax = ax1, color=plt.cm.jet(float(j-i)/17))\n",
    "plt.colorbar(m).set_label('Cited year - Published year')\n",
    "ax1.set_xlabel('Avrage number of citations', fontsize = 14)\n",
    "ax1.set_ylabel('PDF', fontsize = 14)\n",
    "\n",
    "ax2 = fig.add_subplot(122)\n",
    "m.set_array([0,17])    \n",
    "diff = 1\n",
    "for i in range(17):\n",
    "    for j in range(i,17):          \n",
    "        data = count_data[(count_data['PubYear'] == i)&(count_data['CiteYear'] == j)]['avg']\n",
    "        powerlaw.plot_ccdf(data[data>0], ax = ax2, color=plt.cm.jet(float(j-i)/17))\n",
    "plt.colorbar(m).set_label('Cited year - Pubished year')\n",
    "ax2.set_xlabel('Avrage number of citations', fontsize = 14)\n",
    "ax2.set_ylabel('CCDF', fontsize = 14)\n",
    "\n",
    "\n",
    "labellist = [\"a\", \"b\", \"c\", \"d\", \"e\", \"f\", \"g\", \"h\", \"i\", \"j\", \"k\", \"l\", \"m\"]\n",
    "index = 0\n",
    "\n",
    "for ax in fig.get_axes():\n",
    "    if(index%2 == 0):\n",
    "        ax.yaxis.label.set_fontsize(14)\n",
    "        ax.xaxis.label.set_fontsize(14)       \n",
    "        ax.tick_params(axis='x', labelsize=14)\n",
    "        ax.tick_params(axis='y', labelsize=14)       \n",
    "        ax.text(-0.2, 1, labellist[index/2], fontsize=14, weight='bold', transform=ax.transAxes)  \n",
    "    index += 1\n",
    "    \n",
    "plt.tight_layout()\n",
    "plt.savefig(\"FIG002_JOURNAL_CITATION_COUNT.pdf\")\n",
    "plt.show()"
   ]
  }
 ],
 "metadata": {
  "kernelspec": {
   "display_name": "Python 2",
   "language": "python",
   "name": "python2"
  },
  "language_info": {
   "codemirror_mode": {
    "name": "ipython",
    "version": 2
   },
   "file_extension": ".py",
   "mimetype": "text/x-python",
   "name": "python",
   "nbconvert_exporter": "python",
   "pygments_lexer": "ipython2",
   "version": "2.7.15rc1"
  }
 },
 "nbformat": 4,
 "nbformat_minor": 2
}
